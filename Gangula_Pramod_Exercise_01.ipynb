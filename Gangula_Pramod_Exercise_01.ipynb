{
  "cells": [
    {
      "cell_type": "markdown",
      "metadata": {
        "id": "view-in-github",
        "colab_type": "text"
      },
      "source": [
        "<a href=\"https://colab.research.google.com/github/pramodgangula19/5731_Spring24/blob/main/Gangula_Pramod_Exercise_01.ipynb\" target=\"_parent\"><img src=\"https://colab.research.google.com/assets/colab-badge.svg\" alt=\"Open In Colab\"/></a>"
      ]
    },
    {
      "cell_type": "markdown",
      "metadata": {
        "id": "DymRJbxDBCnf"
      },
      "source": [
        "# **This first In-class-exercise cover a variety of fundamental concepts in Python and are designed to help individuals improve their coding skills and problem-solving abilities.**\n",
        "\n",
        "The submission is due on 01/31/2024 11:59 PM. This submission is worth 40 points in total.\n"
      ]
    },
    {
      "cell_type": "markdown",
      "source": [
        "(1) Write a Python program that  prompts the user to input the length and width of a rectangle, and then calculates and displays the area of the rectangle."
      ],
      "metadata": {
        "id": "FBKvD6O_TY6e"
      }
    },
    {
      "cell_type": "code",
      "source": [
        "# write your answer here\n",
        "length, width = map(int,input(\"Enter length and width of a rectangle\").split())\n",
        "print(\"length = \",length)\n",
        "print(\"width = \", width)\n",
        "print(\"Area of a rectangle is: \",length*width)"
      ],
      "metadata": {
        "id": "cikVKDXdTbzE",
        "colab": {
          "base_uri": "https://localhost:8080/"
        },
        "outputId": "7ffe4f23-eb0d-4b8a-b0ed-07f450266a7f"
      },
      "execution_count": 3,
      "outputs": [
        {
          "output_type": "stream",
          "name": "stdout",
          "text": [
            "Enter length and width of a rectangle5 6\n",
            "length =  5\n",
            "width =  6\n",
            "Area of a rectangle is:  30\n"
          ]
        }
      ]
    },
    {
      "cell_type": "markdown",
      "source": [
        "(2) Create a Python program that interactively takes two numerical inputs from the user and swaps their values without utilizing an extra variable."
      ],
      "metadata": {
        "id": "E9RqrlwdTfvl"
      }
    },
    {
      "cell_type": "code",
      "source": [
        "# write your answer here\n",
        "# write your answer here\n",
        "v1 = int(input(\"Enter first value: \"))\n",
        "v2 = int(input(\"Enter second value: \"))#v1 means value-1 & v2 means value-2\n",
        "print(v1, v2) #Before swapping\n",
        "v1 = v1 + v2\n",
        "v2 = v1 -v2\n",
        "v1 = v1 - v2\n",
        "print(v1, v2) #After swaping"
      ],
      "metadata": {
        "id": "4XvRknixTh1g",
        "colab": {
          "base_uri": "https://localhost:8080/"
        },
        "outputId": "339f6826-a8a9-4dd1-ae51-45f08ebe2543"
      },
      "execution_count": 4,
      "outputs": [
        {
          "output_type": "stream",
          "name": "stdout",
          "text": [
            "Enter first value: 5\n",
            "Enter second value: 7\n",
            "5 7\n",
            "7 5\n"
          ]
        }
      ]
    },
    {
      "cell_type": "markdown",
      "metadata": {
        "id": "03jb4GZsBkBS"
      },
      "source": [
        "(3) Write a Python script to determine and print the length of a user-input string."
      ]
    },
    {
      "cell_type": "code",
      "execution_count": 22,
      "metadata": {
        "id": "YaGLbSHHB8Ej",
        "colab": {
          "base_uri": "https://localhost:8080/"
        },
        "outputId": "e977ec10-139a-4a10-f5f6-ac2aaccc9de9"
      },
      "outputs": [
        {
          "output_type": "stream",
          "name": "stdout",
          "text": [
            "Please enter a string: pramod\n",
            "The length of the input string is: 6\n"
          ]
        }
      ],
      "source": [
        "# write your answer here\n",
        "# Prompting user for input\n",
        "user_input = input(\"Please enter a string: \")\n",
        "\n",
        "# Calculating and printing the length of the input string\n",
        "length = len(user_input)\n",
        "print(\"The length of the input string is:\", length)\n",
        "\n"
      ]
    },
    {
      "cell_type": "markdown",
      "metadata": {
        "id": "jJDe71iLB616"
      },
      "source": [
        "(4) Construct a Python program that counts and displays the occurrences of each character in a given string.\n",
        "\n",
        "Sample String: 'openai.ai',\n",
        "\n",
        "Expected Result: {'a': 2, 'i': 2, '.': 1, 'o': 1, 'p': 1, 'e': 1, 'n': 1}"
      ]
    },
    {
      "cell_type": "code",
      "execution_count": 23,
      "metadata": {
        "id": "MtKskTzbCLaU",
        "colab": {
          "base_uri": "https://localhost:8080/"
        },
        "outputId": "d0efb8e5-5ba7-4cbb-9157-d5d2dfd539ee"
      },
      "outputs": [
        {
          "output_type": "stream",
          "name": "stdout",
          "text": [
            "Occurrences of each character in the string:\n",
            "{'o': 1, 'p': 1, 'e': 1, 'n': 1, 'a': 2, 'i': 2, '.': 1}\n"
          ]
        }
      ],
      "source": [
        "# write your answer here\n",
        "def count_characters(input_string):\n",
        "    # Creating an empty dictionary to store character counts\n",
        "    char_count = {}\n",
        "\n",
        "    # Iterating through each character in the input string\n",
        "    for char in input_string:\n",
        "        # Incrementing the count of the character in the dictionary\n",
        "        if char in char_count:\n",
        "            char_count[char] += 1\n",
        "        else:\n",
        "            char_count[char] = 1\n",
        "\n",
        "    return char_count\n",
        "\n",
        "# Sample string\n",
        "sample_string = 'openai.ai'\n",
        "\n",
        "# Counting occurrences of each character in the sample string\n",
        "result = count_characters(sample_string)\n",
        "\n",
        "# Displaying the result\n",
        "print(\"Occurrences of each character in the string:\")\n",
        "print(result)\n"
      ]
    },
    {
      "cell_type": "markdown",
      "metadata": {
        "id": "55W9AMdXCSpV"
      },
      "source": [
        "(5) Design a Python code to calculate the sum of all elements in a user-provided list."
      ]
    },
    {
      "cell_type": "code",
      "execution_count": 24,
      "metadata": {
        "id": "I57NXsauCec2",
        "colab": {
          "base_uri": "https://localhost:8080/"
        },
        "outputId": "59e92602-f662-4426-c446-90a2ee47fa9c"
      },
      "outputs": [
        {
          "output_type": "stream",
          "name": "stdout",
          "text": [
            "Enter a list of numbers separated by spaces: 1 2 3 4 5 6\n",
            "The sum of all elements in the list is: 21\n"
          ]
        }
      ],
      "source": [
        "# write your answer here\n",
        "# Prompting user for input list of numbers\n",
        "input_str = input(\"Enter a list of numbers separated by spaces: \")\n",
        "\n",
        "# Splitting the input string to extract numbers\n",
        "numbers = input_str.split()\n",
        "\n",
        "# Converting the list of strings to a list of integers\n",
        "numbers = [int(num) for num in numbers]\n",
        "\n",
        "# Calculating the sum of all elements in the list\n",
        "sum_of_elements = sum(numbers)\n",
        "\n",
        "# Printing the sum\n",
        "print(\"The sum of all elements in the list is:\", sum_of_elements)\n"
      ]
    },
    {
      "cell_type": "markdown",
      "metadata": {
        "id": "4ulBZ6yhCi9F"
      },
      "source": [
        "(6) Write a Python program that modifies a given string by replacing all occurrences of its first character with '$', excluding the first character itself.\n",
        "\n",
        "\n",
        "Sample String : 'restart‘,\n",
        "\n",
        "Expected Result : 'resta\\$t'"
      ]
    },
    {
      "cell_type": "code",
      "execution_count": 5,
      "metadata": {
        "id": "Fj0XhwbBCw2o",
        "colab": {
          "base_uri": "https://localhost:8080/"
        },
        "outputId": "50b8d2bf-e407-45c4-b866-c8c1c84734f2"
      },
      "outputs": [
        {
          "output_type": "stream",
          "name": "stdout",
          "text": [
            "resta$t the p$ocess\n"
          ]
        }
      ],
      "source": [
        "# write your answer here\n",
        "# write your answer here\n",
        "sample_str = \"restart the process\"\n",
        "final = sample_str.replace(\"r\", \"$\").replace(\"$\", \"r\", 1)\n",
        "print(final)\n"
      ]
    },
    {
      "cell_type": "markdown",
      "source": [
        "(7) Write a Python program using a while loop to compute the factorial of a user-supplied number."
      ],
      "metadata": {
        "id": "qVXA3q7ET5JI"
      }
    },
    {
      "cell_type": "code",
      "source": [
        "# write your answer here\n",
        "FactNum = int(input(\"Enter a number: \"))\n",
        "print(FactNum)\n",
        "m = 0\n",
        "Result= 1\n",
        "while m < FactNum:\n",
        "    Result *= FactNum-m\n",
        "    m +=1\n",
        "print(Result)"
      ],
      "metadata": {
        "id": "Lbt7R6UkT7BA",
        "colab": {
          "base_uri": "https://localhost:8080/"
        },
        "outputId": "027cbb07-080e-4765-e9ca-caff2865c441"
      },
      "execution_count": 6,
      "outputs": [
        {
          "output_type": "stream",
          "name": "stdout",
          "text": [
            "Enter a number: 6\n",
            "6\n",
            "720\n"
          ]
        }
      ]
    },
    {
      "cell_type": "markdown",
      "source": [
        "(8) Create a program that accepts a list of numbers as input and outputs a new list containing only the even numbers."
      ],
      "metadata": {
        "id": "6YfbzXMNT--R"
      }
    },
    {
      "cell_type": "code",
      "source": [
        "# write your answer here\n",
        "inputList = list(map(int, input(\"Enter all the numbers to input in the list: \").split()))\n",
        "print(inputList)\n",
        "outputList = []\n",
        "for item in inputList:\n",
        "    if item%2 == 0:\n",
        "        outputList.append(item)\n",
        "print(outputList)"
      ],
      "metadata": {
        "id": "54q7wMQPUAKu",
        "colab": {
          "base_uri": "https://localhost:8080/"
        },
        "outputId": "c75f1c65-6c0a-478f-bb46-75f3b6969ed4"
      },
      "execution_count": 7,
      "outputs": [
        {
          "output_type": "stream",
          "name": "stdout",
          "text": [
            "Enter all the numbers to input in the list: 1 2 3 4 5\n",
            "[1, 2, 3, 4, 5]\n",
            "[2, 4]\n"
          ]
        }
      ]
    },
    {
      "cell_type": "markdown",
      "metadata": {
        "id": "_bIP7s1MCzue"
      },
      "source": [
        "\n",
        "(9) Design a Python function to check if a number is prime.\n"
      ]
    },
    {
      "cell_type": "code",
      "execution_count": 25,
      "metadata": {
        "id": "w79QilHXD3Mg",
        "colab": {
          "base_uri": "https://localhost:8080/"
        },
        "outputId": "ca74bd61-79b9-4a75-c0ad-b3542c072779"
      },
      "outputs": [
        {
          "output_type": "stream",
          "name": "stdout",
          "text": [
            "Enter a number to check if it's prime: 26\n",
            "26 is not a prime number.\n"
          ]
        }
      ],
      "source": [
        "# write your answer here\n",
        "def is_prime(number):\n",
        "    # Prime numbers are greater than 1\n",
        "    if number <= 1:\n",
        "        return False\n",
        "\n",
        "    # Check for factors from 2 to the square root of the number\n",
        "    for i in range(2, int(number ** 0.5) + 1):\n",
        "        if number % i == 0:\n",
        "            # If the number is divisible by any other number, it's not prime\n",
        "            return False\n",
        "\n",
        "    # If no factors are found, the number is prime\n",
        "    return True\n",
        "\n",
        "# Example usage:\n",
        "num = int(input(\"Enter a number to check if it's prime: \"))\n",
        "if is_prime(num):\n",
        "    print(num, \"is a prime number.\")\n",
        "else:\n",
        "    print(num, \"is not a prime number.\")\n",
        "\n"
      ]
    },
    {
      "cell_type": "markdown",
      "metadata": {
        "id": "xCa2bK9aD4Q3"
      },
      "source": [
        "(10) Write a Python program to concatenate following dictionaries to create a new one.\n",
        "\n",
        "Sample Dictionary : dic1={1:10, 2:20}, dic2={3:30, 4:40}, dic3={5:50,6:60},\n",
        "\n",
        "Expected Result : {1: 10, 2: 20, 3: 30, 4: 40, 5: 50, 6: 60}\n"
      ]
    },
    {
      "cell_type": "code",
      "execution_count": 26,
      "metadata": {
        "id": "_z4aLqAbEET1",
        "colab": {
          "base_uri": "https://localhost:8080/"
        },
        "outputId": "7564bee3-8cc8-4ecb-f072-3d7cebc51529"
      },
      "outputs": [
        {
          "output_type": "stream",
          "name": "stdout",
          "text": [
            "Expected Result: {1: 10, 2: 20, 3: 30, 4: 40, 5: 50, 6: 60}\n"
          ]
        }
      ],
      "source": [
        "# write your answer here\n",
        "# Sample dictionaries\n",
        "dic1 = {1: 10, 2: 20}\n",
        "dic2 = {3: 30, 4: 40}\n",
        "dic3 = {5: 50, 6: 60}\n",
        "\n",
        "# Create a new dictionary by concatenating all dictionaries\n",
        "result_dict = {}\n",
        "result_dict.update(dic1)\n",
        "result_dict.update(dic2)\n",
        "result_dict.update(dic3)\n",
        "\n",
        "# Print the result\n",
        "print(\"Expected Result:\", result_dict)\n",
        "\n"
      ]
    },
    {
      "cell_type": "markdown",
      "source": [
        "(11) Design a Python function that takes a tuple of integers as input and returns the largest and smallest elements."
      ],
      "metadata": {
        "id": "bkyZ2xSZUOst"
      }
    },
    {
      "cell_type": "code",
      "source": [
        "# write your answer here\n",
        "inpTuple = tuple(map(int, input(\"Enter values of a tuple: \").split()))\n",
        "print(inpTuple)\n",
        "sorted_tuple=tuple(sorted(inpTuple))\n",
        "print(\"smallest nbr : \",sorted_tuple[0])\n",
        "print(\"largest nbr: \",sorted_tuple[-1])"
      ],
      "metadata": {
        "id": "3FdLRBKOUQEd",
        "colab": {
          "base_uri": "https://localhost:8080/"
        },
        "outputId": "a954f001-7736-4e3d-9f1a-faec33133262"
      },
      "execution_count": 8,
      "outputs": [
        {
          "output_type": "stream",
          "name": "stdout",
          "text": [
            "Enter values of a tuple: 1 2 3 4 5\n",
            "(1, 2, 3, 4, 5)\n",
            "smallest nbr :  1\n",
            "largest nbr:  5\n"
          ]
        }
      ]
    },
    {
      "cell_type": "markdown",
      "source": [
        "(12) Write a Python program that counts the frequency of each character in a given string and stores it in a dictionary."
      ],
      "metadata": {
        "id": "O0TVi3gKUTpp"
      }
    },
    {
      "cell_type": "code",
      "source": [
        "# write your answer here\n",
        "stringFreq = \" university of north texas\"\n",
        "Freq = {}\n",
        "\n",
        "for char in stringFreq:\n",
        "  if char in Freq:\n",
        "    Freq[char] +=1\n",
        "  else:\n",
        "    Freq[char]=1\n",
        "for k, v in Freq.items():\n",
        "  print(k, \" : \" ,v)"
      ],
      "metadata": {
        "id": "lAtfSfZXUU-h",
        "colab": {
          "base_uri": "https://localhost:8080/"
        },
        "outputId": "40976177-944c-4b1e-fcc2-9072a41a9945"
      },
      "execution_count": 9,
      "outputs": [
        {
          "output_type": "stream",
          "name": "stdout",
          "text": [
            "   :  4\n",
            "u  :  1\n",
            "n  :  2\n",
            "i  :  2\n",
            "v  :  1\n",
            "e  :  2\n",
            "r  :  2\n",
            "s  :  2\n",
            "t  :  3\n",
            "y  :  1\n",
            "o  :  2\n",
            "f  :  1\n",
            "h  :  1\n",
            "x  :  1\n",
            "a  :  1\n"
          ]
        }
      ]
    },
    {
      "cell_type": "markdown",
      "metadata": {
        "id": "0v48Vqa7FrQh"
      },
      "source": [
        "(13) Implement a Python script to identify duplicate elements in a provided array of integers. Return -1 if there are no duplicates."
      ]
    },
    {
      "cell_type": "code",
      "execution_count": 15,
      "metadata": {
        "id": "7WEmgq-DF2P1",
        "colab": {
          "base_uri": "https://localhost:8080/"
        },
        "outputId": "1f631ffc-ab18-4c69-daba-170600b0d69a"
      },
      "outputs": [
        {
          "output_type": "stream",
          "name": "stdout",
          "text": [
            "Duplicates in arr1: -1\n",
            "Duplicates in arr2: [1, 2, 3]\n",
            "Duplicates in arr3: -1\n"
          ]
        }
      ],
      "source": [
        "# write your answer here\n",
        "def find_duplicates(arr):\n",
        "    seen = set()\n",
        "    duplicates = set()\n",
        "    for num in arr:\n",
        "        if num in seen:\n",
        "            duplicates.add(num)\n",
        "        else:\n",
        "            seen.add(num)\n",
        "    if duplicates:\n",
        "        return list(duplicates)\n",
        "    else:\n",
        "        return -1\n",
        "\n",
        "# Test the function\n",
        "arr1 = [1, 2, 3, 4, 5]\n",
        "arr2 = [1, 2, 3, 4, 5, 1, 2, 3]\n",
        "arr3 = [1, 2, 3, 4, 5, 6, 7, 8, 9]\n",
        "\n",
        "print(\"Duplicates in arr1:\", find_duplicates(arr1))\n",
        "print(\"Duplicates in arr2:\", find_duplicates(arr2))\n",
        "print(\"Duplicates in arr3:\", find_duplicates(arr3))\n",
        "\n"
      ]
    },
    {
      "cell_type": "markdown",
      "metadata": {
        "id": "vD5PYLMuGga_"
      },
      "source": [
        "(14) Write a Python script to find the common elements between two lists."
      ]
    },
    {
      "cell_type": "code",
      "execution_count": 16,
      "metadata": {
        "id": "t0D5kdJUGjjw",
        "colab": {
          "base_uri": "https://localhost:8080/"
        },
        "outputId": "ab9a68b0-82d2-498b-c5f6-b2d1e367acf6"
      },
      "outputs": [
        {
          "output_type": "stream",
          "name": "stdout",
          "text": [
            "Common elements using list comprehension: [4, 5]\n",
            "Common elements using sets: [4, 5]\n"
          ]
        }
      ],
      "source": [
        "# write your answer here\n",
        "def find_common_elements(list1, list2):\n",
        "    # Using list comprehension\n",
        "    common_elements = [element for element in list1 if element in list2]\n",
        "    return common_elements\n",
        "\n",
        "def find_common_elements_set(list1, list2):\n",
        "    # Using sets\n",
        "    set1 = set(list1)\n",
        "    set2 = set(list2)\n",
        "    common_elements = list(set1.intersection(set2))\n",
        "    return common_elements\n",
        "\n",
        "# Test the functions\n",
        "list1 = [1, 2, 3, 4, 5]\n",
        "list2 = [4, 5, 6, 7, 8]\n",
        "\n",
        "print(\"Common elements using list comprehension:\", find_common_elements(list1, list2))\n",
        "print(\"Common elements using sets:\", find_common_elements_set(list1, list2))\n",
        "\n"
      ]
    },
    {
      "cell_type": "markdown",
      "metadata": {
        "id": "uHkd-y5VhVWC"
      },
      "source": [
        "(15) Write a Python program to randomly divide the students in this class into six groups for term projects, each group should have at least 4 students but no more than 6 students (including 6).\n",
        "\n",
        "Here is the students list:\n",
        "\n",
        "student_list_spring_2024=[rb0846,\n",
        "ac1964,\n",
        "hc0612,\n",
        "md0912,\n",
        "ad1198,\n",
        "md0894,\n",
        "md0825,\n",
        "vg0598,\n",
        "vg0433,\n",
        "mh1068,\n",
        "yj0173,\n",
        "pk0553,\n",
        "tk0411,\n",
        "srk0204,\n",
        "sk2922,\n",
        "sk2936,\n",
        "mk1302,\n",
        "mk1317,\n",
        "tk0412,\n",
        "vk0656,\n",
        "sm2985,\n",
        "mm2372,\n",
        "un0045,\n",
        "an0892,\n",
        "sn0913,\n",
        "gp0252,\n",
        "ap1484,\n",
        "mr1765,\n",
        "sr1385,\n",
        "sr1335,\n",
        "hs0665,\n",
        "ms2060,\n",
        "gt0217,\n",
        "nt0385,\n",
        "tv0186,\n",
        "sv1394,\n",
        "sv1752,\n",
        "sv1555,\n",
        "sy0594\n",
        "]\n"
      ]
    },
    {
      "cell_type": "code",
      "execution_count": 1,
      "metadata": {
        "id": "3iGbmcOBhTwy",
        "colab": {
          "base_uri": "https://localhost:8080/"
        },
        "outputId": "a8202047-e14d-4830-8a0d-d91dffad9436"
      },
      "outputs": [
        {
          "output_type": "stream",
          "name": "stdout",
          "text": [
            "Group 1: sy0594, mk1317, sv1555, ad1198\n",
            "Group 2: rb0846, md0894, mh1068, tv0186\n",
            "Group 3: sr1335, mm2372, tk0412, ac1964\n",
            "Group 4: sk2922, gt0217, sn0913, srk0204, md0825\n",
            "Group 5: mk1302, md0912, hs0665, gp0252\n",
            "Group 6: sv1752, an0892, pk0553, vg0433, vg0598, ms2060\n"
          ]
        }
      ],
      "source": [
        "import random\n",
        "\n",
        "# Define the student list\n",
        "student_list_spring_2024 = [\n",
        "    'rb0846', 'ac1964', 'hc0612', 'md0912', 'ad1198', 'md0894', 'md0825',\n",
        "    'vg0598', 'vg0433', 'mh1068', 'yj0173', 'pk0553', 'tk0411', 'srk0204',\n",
        "    'sk2922', 'sk2936', 'mk1302', 'mk1317', 'tk0412', 'vk0656', 'sm2985',\n",
        "    'mm2372', 'un0045', 'an0892', 'sn0913', 'gp0252', 'ap1484', 'mr1765',\n",
        "    'sr1385', 'sr1335', 'hs0665', 'ms2060', 'gt0217', 'nt0385', 'tv0186',\n",
        "    'sv1394', 'sv1752', 'sv1555', 'sy0594'\n",
        "]\n",
        "\n",
        "# Shuffle the student list\n",
        "random.shuffle(student_list_spring_2024)\n",
        "\n",
        "# Calculate the number of students per group\n",
        "num_students_per_group = len(student_list_spring_2024) // 6\n",
        "\n",
        "# Divide the students into groups\n",
        "groups = []\n",
        "start_index = 0\n",
        "for i in range(6):\n",
        "    group_size = random.randint(4, 6)\n",
        "    end_index = start_index + group_size\n",
        "    groups.append(student_list_spring_2024[start_index:end_index])\n",
        "    start_index = end_index\n",
        "\n",
        "# Print the groups\n",
        "for i, group in enumerate(groups, 1):\n",
        "    print(f\"Group {i}: {', '.join(group)}\")\n"
      ]
    },
    {
      "cell_type": "markdown",
      "metadata": {
        "id": "fmZ9vX20Qs3d"
      },
      "source": [
        "(16) Create a program that takes a positive integer 'n' as input and prints the count of even numbers from 1 to 'n'. Optimize the loop using the break statement."
      ]
    },
    {
      "cell_type": "code",
      "execution_count": 19,
      "metadata": {
        "id": "W8Jw6sWMQs3d",
        "colab": {
          "base_uri": "https://localhost:8080/"
        },
        "outputId": "6776131c-d1ab-47c5-ef82-73feab1bea4e"
      },
      "outputs": [
        {
          "output_type": "stream",
          "name": "stdout",
          "text": [
            "Enter a positive integer: 5\n",
            "Count of even numbers from 1 to 5 : 1\n"
          ]
        }
      ],
      "source": [
        "# write your answer here\n",
        "def count_even_numbers(n):\n",
        "    count = 0\n",
        "    for i in range(1, n + 1):\n",
        "        if i > n // 2:\n",
        "            break\n",
        "        if i % 2 == 0:\n",
        "            count += 1\n",
        "    return count\n",
        "\n",
        "# Test the function\n",
        "n = int(input(\"Enter a positive integer: \"))\n",
        "if n <= 0:\n",
        "    print(\"Please enter a positive integer.\")\n",
        "else:\n",
        "    print(\"Count of even numbers from 1 to\", n, \":\", count_even_numbers(n))\n",
        "\n"
      ]
    },
    {
      "cell_type": "markdown",
      "metadata": {
        "id": "hvq4APMhQs3d"
      },
      "source": [
        "(17) Develop a Python function called 'count_vowels' that takes a string as input and returns the count of vowels (both lowercase and uppercase) present in the string, ignoring spaces and non-alphabetic characters."
      ]
    },
    {
      "cell_type": "code",
      "execution_count": 14,
      "metadata": {
        "id": "ZnoxhSglQs3d",
        "colab": {
          "base_uri": "https://localhost:8080/"
        },
        "outputId": "836fd68f-b3de-4a52-8191-75020f796d14"
      },
      "outputs": [
        {
          "output_type": "stream",
          "name": "stdout",
          "text": [
            "Number of vowels: 8\n"
          ]
        }
      ],
      "source": [
        "# write your answer here\n",
        "def count_vowels(input_string):\n",
        "    vowels = \"aeiouAEIOU\"\n",
        "    count = 0\n",
        "    for char in input_string:\n",
        "        if char.isalpha() and char in vowels:\n",
        "            count += 1\n",
        "    return count\n",
        "\n",
        "# Test the function\n",
        "input_string = \"Hello World! This is a test string.\"\n",
        "print(\"Number of vowels:\", count_vowels(input_string))\n",
        "\n"
      ]
    },
    {
      "cell_type": "markdown",
      "source": [
        "(18) Create a custom exception named ValueTooSmallError in Python. Write a program that takes user input for an age, and if the entered age is less than 18, raise the ValueTooSmallError with an appropriate error message."
      ],
      "metadata": {
        "id": "55FWoSJPVVM6"
      }
    },
    {
      "cell_type": "code",
      "source": [
        "# write your answer here\n",
        "class ValueTooSmallError(Exception):\n",
        "    def __init__(self, message=\"Value is too small\"):\n",
        "        self.message = message\n",
        "        super().__init__(self.message)\n",
        "\n",
        "def get_age():\n",
        "    age = int(input(\"Enter your age: \"))\n",
        "    if age < 18:\n",
        "        raise ValueTooSmallError(\"You must be 18 or older.\")\n",
        "    else:\n",
        "        print(\"Your age is:\", age)\n",
        "\n",
        "try:\n",
        "    get_age()\n",
        "except ValueTooSmallError as e:\n",
        "    print(e)\n",
        "\n"
      ],
      "metadata": {
        "id": "hwtr1wZmVX5A",
        "colab": {
          "base_uri": "https://localhost:8080/"
        },
        "outputId": "88af2d71-ed7f-44fd-bc88-16cb33138afc"
      },
      "execution_count": 13,
      "outputs": [
        {
          "output_type": "stream",
          "name": "stdout",
          "text": [
            "Enter your age: 25\n",
            "Your age is: 25\n"
          ]
        }
      ]
    },
    {
      "cell_type": "markdown",
      "source": [
        "(19) Develop a script that reverses a given string without using built-in reverse functions."
      ],
      "metadata": {
        "id": "Q9ecagcaVazW"
      }
    },
    {
      "cell_type": "code",
      "source": [
        "# write your answer here\n",
        "def reverse_string(input_string):\n",
        "    reversed_string = ''\n",
        "    for i in range(len(input_string) - 1, -1, -1):\n",
        "        reversed_string += input_string[i]\n",
        "    return reversed_string\n",
        "\n",
        "input_string = input(\"Enter a string to reverse: \")\n",
        "print(\"Reversed string:\", reverse_string(input_string))\n",
        "\n"
      ],
      "metadata": {
        "id": "gycgckoAVZjR",
        "colab": {
          "base_uri": "https://localhost:8080/"
        },
        "outputId": "cdb7e14a-aa9e-421b-a206-3c4ec9084f82"
      },
      "execution_count": 12,
      "outputs": [
        {
          "output_type": "stream",
          "name": "stdout",
          "text": [
            "Enter a string to reverse: pramod\n",
            "Reversed string: domarp\n"
          ]
        }
      ]
    },
    {
      "cell_type": "markdown",
      "source": [
        "(20) Implement a Python script to generate a random password of a specified length."
      ],
      "metadata": {
        "id": "ZFG6RibifMLu"
      }
    },
    {
      "cell_type": "code",
      "source": [
        "# write your answer here\n",
        "import random\n",
        "import string\n",
        "\n",
        "def generate_password(length):\n",
        "    characters = string.ascii_letters + string.digits + string.punctuation\n",
        "    password = ''.join(random.choice(characters) for _ in range(length))\n",
        "    return password\n",
        "\n",
        "length = int(input(\"Enter the length of the password: \"))\n",
        "print(\"Generated Password:\", generate_password(length))\n"
      ],
      "metadata": {
        "id": "BFVrkEi9fNiD",
        "colab": {
          "base_uri": "https://localhost:8080/"
        },
        "outputId": "5f7baecd-7727-4d97-92ed-1ab8574f899d"
      },
      "execution_count": 11,
      "outputs": [
        {
          "output_type": "stream",
          "name": "stdout",
          "text": [
            "Enter the length of the password: 5\n",
            "Generated Password: :nyN/\n"
          ]
        }
      ]
    },
    {
      "cell_type": "markdown",
      "source": [
        "# Try these questions:"
      ],
      "metadata": {
        "id": "6SmvS7nSfbj8"
      }
    },
    {
      "cell_type": "markdown",
      "source": [
        "(21) Define a base class called 'Vehicle' with attributes make and model. Create a derived class Car that inherits from Vehicle and has an additional attribute 'num_doors'. Demonstrate an example of creating an instance of the 'Car' class and accessing its attributes."
      ],
      "metadata": {
        "id": "cboAr5pEWUf5"
      }
    },
    {
      "cell_type": "code",
      "source": [
        "# write your answer here\n",
        "class Vehicle:\n",
        "    def __init__(self, make, model):\n",
        "        self.make = make\n",
        "        self.model = model\n",
        "\n",
        "class Car(Vehicle):\n",
        "    def __init__(self, make, model, num_doors):\n",
        "        super().__init__(make, model)\n",
        "        self.num_doors = num_doors\n",
        "\n",
        "# Creating an instance of the Car class\n",
        "my_car = Car(\"Benz\", \"Audi\", 4)\n",
        "\n",
        "# Accessing attributes\n",
        "print(\"Make:\", my_car.make)\n",
        "print(\"Model:\", my_car.model)\n",
        "print(\"Number of doors:\", my_car.num_doors)\n",
        "\n"
      ],
      "metadata": {
        "id": "phs9gciMWWAW",
        "colab": {
          "base_uri": "https://localhost:8080/"
        },
        "outputId": "f5bfe588-e7bd-45e4-fffb-26d9bb8986f4"
      },
      "execution_count": 5,
      "outputs": [
        {
          "output_type": "stream",
          "name": "stdout",
          "text": [
            "Make: Benz\n",
            "Model: Audi\n",
            "Number of doors: 4\n"
          ]
        }
      ]
    },
    {
      "cell_type": "markdown",
      "source": [
        "(22) Create a class called 'Shape' with a method calculate_area(). Implement two derived classes 'Circle' and 'Rectangle' that inherit from Shape and override the calculate_area() method. Demonstrate polymorphism by creating instances of both derived classes and calling the calculate_area() method."
      ],
      "metadata": {
        "id": "J8HHefNtePwd"
      }
    },
    {
      "cell_type": "code",
      "source": [
        "# write your answer here\n",
        "import math\n",
        "\n",
        "class Shape:\n",
        "    def calculate_area(self):\n",
        "        pass\n",
        "\n",
        "class Circle(Shape):\n",
        "    def __init__(self, radius):\n",
        "        self.radius = radius\n",
        "\n",
        "    def calculate_area(self):\n",
        "        return math.pi * self.radius ** 2\n",
        "\n",
        "class Rectangle(Shape):\n",
        "    def __init__(self, width, height):\n",
        "        self.width = width\n",
        "        self.height = height\n",
        "\n",
        "    def calculate_area(self):\n",
        "        return self.width * self.height\n",
        "\n",
        "# Demonstration\n",
        "circle = Circle(5)\n",
        "rectangle = Rectangle(4, 6)\n",
        "\n",
        "print(\"Area of the circle:\", circle.calculate_area())\n",
        "print(\"Area of the rectangle:\", rectangle.calculate_area())\n"
      ],
      "metadata": {
        "id": "btnMmUZDeRhS",
        "colab": {
          "base_uri": "https://localhost:8080/"
        },
        "outputId": "5f73ec86-cc99-4f59-9089-1b1602d385ac"
      },
      "execution_count": 3,
      "outputs": [
        {
          "output_type": "stream",
          "name": "stdout",
          "text": [
            "Area of the circle: 78.53981633974483\n",
            "Area of the rectangle: 24\n"
          ]
        }
      ]
    },
    {
      "cell_type": "markdown",
      "source": [
        "(23) Write a Python program that prompts the user to enter two numbers and perform a division operation. Handle exceptions for both zero division and invalid input (non-numeric input). Display appropriate error messages for each type of exception and ensure the program does not crash due to these errors."
      ],
      "metadata": {
        "id": "z0oqEAlTeMUS"
      }
    },
    {
      "cell_type": "code",
      "source": [
        "# write your answer here\n",
        "def divide_numbers():\n",
        "    try:\n",
        "        num1 = float(input(\"Enter the first number: \"))\n",
        "        num2 = float(input(\"Enter the second number: \"))\n",
        "\n",
        "        result = num1 / num2\n",
        "        print(\"Result of division:\", result)\n",
        "\n",
        "    except ValueError:\n",
        "        print(\"Error: Please enter numeric values only.\")\n",
        "    except ZeroDivisionError:\n",
        "        print(\"Error: Division by zero is not allowed.\")\n",
        "    except Exception as e:\n",
        "        print(\"An error occurred:\", e)\n",
        "\n",
        "divide_numbers()\n"
      ],
      "metadata": {
        "id": "yjdc1zM1eMAs",
        "colab": {
          "base_uri": "https://localhost:8080/"
        },
        "outputId": "12a4d8e2-9fec-499c-c9fa-81d012d69447"
      },
      "execution_count": 4,
      "outputs": [
        {
          "output_type": "stream",
          "name": "stdout",
          "text": [
            "Enter the first number: 6\n",
            "Enter the second number: 7\n",
            "Result of division: 0.8571428571428571\n"
          ]
        }
      ]
    },
    {
      "cell_type": "code",
      "source": [],
      "metadata": {
        "id": "ecucXUcaYlHM"
      },
      "execution_count": null,
      "outputs": []
    },
    {
      "cell_type": "markdown",
      "source": [
        "# Mandatory Question"
      ],
      "metadata": {
        "id": "sZOhks1dXWEe"
      }
    },
    {
      "cell_type": "markdown",
      "source": [
        "**Important:**\n",
        "Reflecting on the first three lectures and the exercises you've completed, please provide feedback on your learning experience. Share your thoughts on whether the material covered was clear, the exercises were helpful, and if you feel more confident in applying Python programming concepts. Additionally, mention any specific areas where you would like more clarification or topics you would like to explore further in future lectures. Your feedback is valuable in shaping the course for an effective learning journey."
      ],
      "metadata": {
        "id": "eqmHVEwaWhbV"
      }
    },
    {
      "cell_type": "markdown",
      "source": [
        "Write your response here."
      ],
      "metadata": {
        "id": "HlpXOT9wXQAd"
      }
    },
    {
      "cell_type": "code",
      "source": [
        "After completing the first three lectures and activities, I believe the content is organized and straightforward. A strong foundation in Python programming has been established by moving from fundamental concepts like variables and syntax to more complex ones like loops, conditionals, and functions.After completing the first three lectures and activities, I believe the content is organized and straightforward. A strong foundation in Python programming has been established by moving from fundamental concepts like variables and syntax to more complex ones like loops, conditionals, and functions.Each topic included activities that were especially beneficial for strengthening concepts and enhancing practical abilities. They made it possible for practical experimentation, which is, in my opinion, essential for successfully grasping programming principles. The in-class tests also functioned well as benchmarks for evaluating comprehension and recall.Following these lectures and exercises, I do feel more comfortable applying Python programming ideas. On several issues, though, such Python Dates, Python JSON handling, and Python Try Except error handling, I would want additional information. Though they might need more examples or in-depth explanations to properly understand, these topics seem essential for real-world application.In order to learn how to efficiently organize and reuse code, I'm interested in learning more about Python modules, packages, and classes and objects in the future. Furthermore, it would be helpful to learn more about practical applications like interacting with databases or external APIs in order to comprehend Python programming scenarios in the real world.Overall, I'm enjoying the learning journey so far and look forward to diving deeper into Python programming in future lectures.\n",
        "\n",
        "\n",
        "\n",
        "\n"
      ],
      "metadata": {
        "id": "Dq2aOZU7XIke"
      },
      "execution_count": null,
      "outputs": []
    }
  ],
  "metadata": {
    "colab": {
      "provenance": [],
      "include_colab_link": true
    },
    "kernelspec": {
      "display_name": "Python 3 (ipykernel)",
      "language": "python",
      "name": "python3"
    },
    "language_info": {
      "codemirror_mode": {
        "name": "ipython",
        "version": 3
      },
      "file_extension": ".py",
      "mimetype": "text/x-python",
      "name": "python",
      "nbconvert_exporter": "python",
      "pygments_lexer": "ipython3",
      "version": "3.9.12"
    }
  },
  "nbformat": 4,
  "nbformat_minor": 0
}