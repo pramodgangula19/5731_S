{
  "cells": [
    {
      "cell_type": "markdown",
      "metadata": {
        "id": "view-in-github",
        "colab_type": "text"
      },
      "source": [
        "<a href=\"https://colab.research.google.com/github/pramodgangula19/5731_Spring24/blob/main/Gangula_Pramod_Assignment_01.ipynb\" target=\"_parent\"><img src=\"https://colab.research.google.com/assets/colab-badge.svg\" alt=\"Open In Colab\"/></a>"
      ]
    },
    {
      "cell_type": "markdown",
      "metadata": {
        "id": "Ryk8D1Q4Wsrp"
      },
      "source": [
        "# **INFO5731 Assignment One**"
      ]
    },
    {
      "cell_type": "markdown",
      "source": [
        "This assignment includes range of programming tasks and data analysis exercises, aiming to enhance your Python skills and proficiency in string manipulation, numerical computations, and data science. Follow the instructions carefully and design well-structured Python programs to address each question.\n",
        "\n",
        "Late Submission will have a penalty of 10% reduction for each day after the deadline."
      ],
      "metadata": {
        "id": "qcP6re2g5A5r"
      }
    },
    {
      "cell_type": "markdown",
      "metadata": {
        "id": "JkzR8cFAyGik"
      },
      "source": [
        "# Question 1 (10 points).\n",
        "\n",
        "The formula that describes the volume V of a hemisphere with radius r is the following:\n",
        "\n",
        "$ V=\\frac{2}{3}\\ast\\ \\pi\\ast\\ r^3 $\n",
        "\n",
        "Write a program to calculate the value of V when r is in the range of even numbers from 1-20. Output the result in the following format:\n",
        "\n",
        "\tr\tV\n",
        "\t2\t…\n",
        "\t4\t…\n",
        "\t6\t…\n",
        "\t.\n",
        "\t.\n",
        "\t.\n",
        "\t20\t…\n"
      ]
    },
    {
      "cell_type": "code",
      "execution_count": null,
      "metadata": {
        "id": "jDyTKYs-yGit",
        "colab": {
          "base_uri": "https://localhost:8080/"
        },
        "outputId": "b02b8794-af34-4f7c-8c98-09776d3ff747"
      },
      "outputs": [
        {
          "output_type": "stream",
          "name": "stdout",
          "text": [
            "r    V\n",
            "2    16.76\n",
            "4    134.04\n",
            "6    452.39\n",
            "8    1072.33\n",
            "10   2094.40\n",
            "12   3619.11\n",
            "14   5747.02\n",
            "16   8578.64\n",
            "18   12214.51\n",
            "20   16755.16\n"
          ]
        }
      ],
      "source": [
        "\n",
        "import math\n",
        "\n",
        "def calculate_volume(r):\n",
        "    return (2/3) * math.pi * (r ** 3)\n",
        "\n",
        "print(\"r    V\")\n",
        "for r in range(2, 21, 2):\n",
        "    volume = calculate_volume(r)\n",
        "    print(f\"{r:<4} {volume:.2f}\")\n",
        "\n"
      ]
    },
    {
      "cell_type": "markdown",
      "metadata": {
        "id": "90_NR8c5XGWc"
      },
      "source": [
        "# Question 2 (20 points)\n",
        "\n",
        "(a) Write a Python program to generate a sequence of 12 random numbers falling within the range of 50 to 150.\n",
        "\n",
        "(b) Arrange the generated numbers in ascending order. Display the sorted list.\n",
        "\n",
        "(c) Extend the program to arrange the numbers in descending order as well. Present the sorted list accordingly.\n",
        "\n",
        "(d) Compute and output the average of the entire group of generated numbers.\n",
        "\n",
        "(e) Enhance the program to calculate and display the average of the first 6 numbers from both the ascending and descending sorted lists."
      ]
    },
    {
      "cell_type": "code",
      "execution_count": null,
      "metadata": {
        "id": "5QX6bJjGWXY9",
        "colab": {
          "base_uri": "https://localhost:8080/"
        },
        "outputId": "521fa8a3-2ae8-407f-8d8d-ce1560a88c0a"
      },
      "outputs": [
        {
          "output_type": "stream",
          "name": "stdout",
          "text": [
            "(a) Generated sequence of 12 random numbers:\n",
            "[147, 99, 69, 73, 139, 111, 131, 124, 50, 119, 59, 123]\n",
            "\n",
            "(b) Sorted list in ascending order:\n",
            "[50, 59, 69, 73, 99, 111, 119, 123, 124, 131, 139, 147]\n",
            "\n",
            "(c) Sorted list in descending order:\n",
            "[147, 139, 131, 124, 123, 119, 111, 99, 73, 69, 59, 50]\n",
            "\n",
            "(d) Average of the entire group of generated numbers: 103.66666666666667\n",
            "\n",
            "(e) Average of the first 6 numbers from the ascending sorted list: 76.83333333333333\n",
            "(e) Average of the first 6 numbers from the descending sorted list: 130.5\n"
          ]
        }
      ],
      "source": [
        "# Write code for each of the sub parts with proper comments.\n",
        "\n",
        "import random\n",
        "\n",
        "# Generate a sequence of 12 random numbers in the range of 50 to 150\n",
        "random_numbers = [random.randint(50, 150) for _ in range(12)]\n",
        "\n",
        "# (a) Display the generated sequence\n",
        "print(\"(a) Generated sequence of 12 random numbers:\")\n",
        "print(random_numbers)\n",
        "\n",
        "# (b) Arrange the generated numbers in ascending order\n",
        "ascending_sorted = sorted(random_numbers)\n",
        "print(\"\\n(b) Sorted list in ascending order:\")\n",
        "print(ascending_sorted)\n",
        "\n",
        "# (c) Arrange the numbers in descending order\n",
        "descending_sorted = sorted(random_numbers, reverse=True)\n",
        "print(\"\\n(c) Sorted list in descending order:\")\n",
        "print(descending_sorted)\n",
        "\n",
        "# (d) Compute and output the average of the entire group of generated numbers\n",
        "average = sum(random_numbers) / len(random_numbers)\n",
        "print(\"\\n(d) Average of the entire group of generated numbers:\", average)\n",
        "\n",
        "# (e) Compute and display the average of the first 6 numbers from both the ascending and descending sorted lists\n",
        "average_first_6_ascending = sum(ascending_sorted[:6]) / 6\n",
        "average_first_6_descending = sum(descending_sorted[:6]) / 6\n",
        "\n",
        "print(\"\\n(e) Average of the first 6 numbers from the ascending sorted list:\", average_first_6_ascending)\n",
        "print(\"(e) Average of the first 6 numbers from the descending sorted list:\", average_first_6_descending)\n"
      ]
    },
    {
      "cell_type": "markdown",
      "metadata": {
        "id": "1F_PZdH9Sh49"
      },
      "source": [
        "# Question 3 (20 points).\n",
        "\n",
        "Create a Python program that encompasses various string manipulation task:\n",
        "\n",
        "(a) Prompt the user to input two sentences.\n",
        "\n",
        "(b) Transform each sentence into a list, where each element corresponds to a word in the sentence. For example, if the sentences are \"Hello, how are you doing today?\" and \"This is an example sentence for the program!\"\n",
        "\n",
        "The program should output:\n",
        "['Hello', ',', 'how', 'are', 'you', 'doing', 'today', '?', 'This', 'is', 'an', 'example', 'sentence', 'for', 'the', 'program', '!']\n",
        "\n",
        "(c) Compare the two sentences. Print out a list of words that occur in both sentences.\n",
        "\n",
        "(d) Remove any punctuation from the sentence and print the sanitized sentences. It should remove at least the following characters, but it can remove more: period(“.”), comma (“,”), semicolon (“;”), and colon (“:”).\n",
        "\n",
        "(e) Count the number of vowels in each of the sentences. Print out each vowel and the occurrences  in the each of the two sentences separately, such as:\n",
        "\n",
        "Sentence1: a:2, e:2, i:0, etc.\n",
        "Sentence2: a:1, e:2, i:2, etc.\n",
        "\n",
        "Design a well-structured Python program to execute these tasks efficiently."
      ]
    },
    {
      "cell_type": "code",
      "execution_count": null,
      "metadata": {
        "id": "Y0oOSlsOS0cq",
        "colab": {
          "base_uri": "https://localhost:8080/"
        },
        "outputId": "ca5ceae9-0817-45fc-971d-f29351592026"
      },
      "outputs": [
        {
          "output_type": "stream",
          "name": "stdout",
          "text": [
            "Enter the first sentence: pramod\n",
            "Enter the second sentence: reddy\n",
            "\n",
            "(a) Transformed lists:\n",
            "['pramod', 'reddy']\n",
            "\n",
            "(b) Common words in both sentences:\n",
            "[]\n",
            "\n",
            "(c) Sentences without punctuation:\n",
            "Sentence1: pramod\n",
            "Sentence2: reddy\n",
            "\n",
            "(d) Count of vowels:\n",
            "Sentence1: a:1, e:0, i:0, o:1, u:0\n",
            "Sentence2: a:0, e:1, i:0, o:0, u:0\n"
          ]
        }
      ],
      "source": [
        "# Your code here\n",
        "import string\n",
        "\n",
        "def input_sentences():\n",
        "    sentence1 = input(\"Enter the first sentence: \")\n",
        "    sentence2 = input(\"Enter the second sentence: \")\n",
        "    return sentence1, sentence2\n",
        "\n",
        "def transform_to_word_list(sentence):\n",
        "    words = sentence.split()\n",
        "    # Remove punctuation\n",
        "    words = [word.strip(string.punctuation) for word in words]\n",
        "    return words\n",
        "\n",
        "def find_common_words(sentence1, sentence2):\n",
        "    words1 = set(transform_to_word_list(sentence1))\n",
        "    words2 = set(transform_to_word_list(sentence2))\n",
        "    common_words = words1.intersection(words2)\n",
        "    return list(common_words)\n",
        "\n",
        "def remove_punctuation(sentence):\n",
        "    translator = str.maketrans('', '', string.punctuation)\n",
        "    return sentence.translate(translator)\n",
        "\n",
        "def count_vowels(sentence):\n",
        "    vowels = 'aeiou'\n",
        "    vowel_count = {vowel: 0 for vowel in vowels}\n",
        "    for char in sentence:\n",
        "        if char.lower() in vowels:\n",
        "            vowel_count[char.lower()] += 1\n",
        "    return vowel_count\n",
        "\n",
        "def print_vowel_counts(sentence1, sentence2):\n",
        "    vowel_count1 = count_vowels(sentence1)\n",
        "    vowel_count2 = count_vowels(sentence2)\n",
        "    print(\"Sentence1:\", end=' ')\n",
        "    print(', '.join([f\"{vowel}:{count}\" for vowel, count in vowel_count1.items()]))\n",
        "    print(\"Sentence2:\", end=' ')\n",
        "    print(', '.join([f\"{vowel}:{count}\" for vowel, count in vowel_count2.items()]))\n",
        "\n",
        "def main():\n",
        "    sentence1, sentence2 = input_sentences()\n",
        "    print(\"\\n(a) Transformed lists:\")\n",
        "    words1 = transform_to_word_list(sentence1)\n",
        "    words2 = transform_to_word_list(sentence2)\n",
        "    print(words1 + words2)\n",
        "\n",
        "    print(\"\\n(b) Common words in both sentences:\")\n",
        "    common_words = find_common_words(sentence1, sentence2)\n",
        "    print(common_words)\n",
        "\n",
        "    print(\"\\n(c) Sentences without punctuation:\")\n",
        "    sentence1_no_punctuation = remove_punctuation(sentence1)\n",
        "    sentence2_no_punctuation = remove_punctuation(sentence2)\n",
        "    print(\"Sentence1:\", sentence1_no_punctuation)\n",
        "    print(\"Sentence2:\", sentence2_no_punctuation)\n",
        "\n",
        "    print(\"\\n(d) Count of vowels:\")\n",
        "    print_vowel_counts(sentence1, sentence2)\n",
        "\n",
        "if __name__ == \"__main__\":\n",
        "    main()\n",
        "\n"
      ]
    },
    {
      "cell_type": "markdown",
      "source": [
        "# Question 4 (20 Points)"
      ],
      "metadata": {
        "id": "OP4-5qxAtInv"
      }
    },
    {
      "cell_type": "markdown",
      "source": [
        "Design and implement a simple command-line calculator program. The program should handle both integers and floating-point numbers.\n",
        "\n",
        "(a) Write program that takes a mathematical expression as input and evaluates it. The program should support addition, subtraction, multiplication, and division.\n",
        "\n",
        "(b) Extend the calculator to handle parentheses in mathematical expressions. Implement the necessary logic to evaluate expressions with nested parentheses.\n",
        "\n",
        "(c) Enhance your calculator to include additional mathematical operations such as exponentiation, square root, and modulus.\n",
        "\n",
        "(d) Implement error handling in the calculator program. Handle cases such as division by zero and invalid input expressions. Provide meaningful error messages.\n",
        "\n",
        "(e) Implement a command to exit the calculator."
      ],
      "metadata": {
        "id": "uzN4_hDptK9U"
      }
    },
    {
      "cell_type": "code",
      "source": [
        "# Your code here\n",
        "import re\n",
        "import math\n",
        "\n",
        "def evaluate_expression(expression):\n",
        "    try:\n",
        "        return eval(expression)\n",
        "    except ZeroDivisionError:\n",
        "        return \"Error: Division by zero!\"\n",
        "    except Exception as e:\n",
        "        return f\"Error: {str(e)}\"\n",
        "\n",
        "def handle_parentheses(expression):\n",
        "    while '(' in expression:\n",
        "        expression = re.sub(r'\\(([^()]+)\\)', lambda x: str(evaluate_expression(x.group(1))), expression)\n",
        "    return expression\n",
        "\n",
        "def handle_additional_operations(expression):\n",
        "    expression = re.sub(r'(\\d+\\.?\\d*)\\s*\\^\\s*(\\d+\\.?\\d*)', lambda x: str(float(x.group(1)) ** float(x.group(2))), expression)\n",
        "    expression = re.sub(r'sqrt\\((\\d+\\.?\\d*)\\)', lambda x: str(math.sqrt(float(x.group(1)))), expression)\n",
        "    expression = re.sub(r'(\\d+\\.?\\d*)\\s*mod\\s*(\\d+\\.?\\d*)', lambda x: str(float(x.group(1)) % float(x.group(2))), expression)\n",
        "    return expression\n",
        "\n",
        "def main():\n",
        "    print(\"Welcome to the Simple Command-line Calculator!\")\n",
        "    print(\"Enter 'exit' to quit.\")\n",
        "\n",
        "    while True:\n",
        "        expression = input(\"Enter a mathematical expression: \")\n",
        "\n",
        "        if expression.lower() == 'exit':\n",
        "            print(\"Exiting the calculator.\")\n",
        "            break\n",
        "\n",
        "        expression = handle_parentheses(expression)\n",
        "        expression = handle_additional_operations(expression)\n",
        "        result = evaluate_expression(expression)\n",
        "        print(\"Result:\", result)\n",
        "\n",
        "if __name__ == \"__main__\":\n",
        "    main()\n"
      ],
      "metadata": {
        "id": "8nQnVxjJuYtu",
        "colab": {
          "base_uri": "https://localhost:8080/"
        },
        "outputId": "dec0feeb-ea83-4842-ae71-60b7582a868f"
      },
      "execution_count": null,
      "outputs": [
        {
          "output_type": "stream",
          "name": "stdout",
          "text": [
            "Welcome to the Simple Command-line Calculator!\n",
            "Enter 'exit' to quit.\n",
            "Enter a mathematical expression: ((2 + 3) * 4) / (5 - 1)\n",
            "Result: 5.0\n",
            "Enter a mathematical expression: 1+2\n",
            "Result: 3\n",
            "Enter a mathematical expression: 10 mod 3\n",
            "Result: 1.0\n",
            "Enter a mathematical expression: 2^3\n",
            "Result: 8.0\n",
            "Enter a mathematical expression: 1 + 2 * 3 / 4\n",
            "Result: 2.5\n",
            "Enter a mathematical expression: exit\n",
            "Exiting the calculator.\n"
          ]
        }
      ]
    },
    {
      "cell_type": "markdown",
      "metadata": {
        "id": "z3tBE7E-Xn5X"
      },
      "source": [
        "# Question 5 (30 points).\n",
        "\n",
        "In the field of Data Science, data is often formatted as a comma-delimited (CSV) file, where each line in a file corresponds to a field's value. Refer to Chapter 9 (p. 106) for more information on comma-delimited files.\n",
        "\n",
        "To answer this question, you will need to download the file [Assignment1_denton_housing.csv](https://raw.githubusercontent.com/unt-iialab/info5731-spring2022/main/assignments/Assignment1_denton_housing.csv) included with this assignment. The file contains statistics about housing in the city of Denton from 2008 to 2014. Write a program to implement the following questions.\n",
        "\n",
        "(a) (5 pts) Calculate the difference in the number of Occupied Housing Units from year to year and print it. The difference must be calculated for the consecutive years such as 2008-2009, 2009-2010 etc. Finally, print the values in the ascending order.\n",
        "\n",
        "(b) (5 pts) For all the years, calculate the percentage of housing units which are vacant an occupied. Print the results in the following format:\n",
        "\n",
        "Year Vacant Housing Units Occupied Housing Units\n",
        "\n",
        "    2008  30%   70%                          \n",
        "\t2009 ----- -----\n",
        "\t2010 ----- -----\n",
        "    2011 ----- -----\n",
        "\t2012 ----- -----\n",
        "    2013 ----- -----\n",
        "\t2014 ----- -----\n",
        "  \n",
        "  \n",
        "\n",
        "(c) (10 pts) Calculate and print the valued and years in which the highest number of housing units were vacant and occupied. Print the results in the following format:  \n",
        "\n",
        "                              Year\tValue\n",
        "\tVacant Housing Units\t  -----   -----\n",
        "\tOccupied Housing Units\t-----   -----\n",
        "\n",
        "(d) (10 pts) Calculate the harmonic mean of the total housing units and print it out. You can find the information about harmonic mean here: https://ncalculators.com/statistics/harmonic-mean-calculator.htm"
      ]
    },
    {
      "cell_type": "code",
      "execution_count": null,
      "metadata": {
        "id": "lqGYuHBhcsRH",
        "colab": {
          "base_uri": "https://localhost:8080/"
        },
        "outputId": "4c512d70-aa91-4203-ea08-6571e3ca0532"
      },
      "outputs": [
        {
          "output_type": "stream",
          "name": "stdout",
          "text": [
            "Occupied Housing Units Difference (Ascending Order):\n",
            "[-795, 5091, -303, 1404, 1565, 2622]\n",
            "\n",
            "Year  Vacant Housing Units  Occupied Housing Units\n",
            "title_field  Vacant Housing %  Occupied Housing %\n",
            "year                                             \n",
            "2008                    10.88               89.12\n",
            "2009                     9.07               90.93\n",
            "2010                     8.14               91.86\n",
            "2011                     9.38               90.62\n",
            "2012                     6.68               93.32\n",
            "2013                     8.80               91.20\n",
            "2014                     5.73               94.27\n"
          ]
        }
      ],
      "source": [
        "\n",
        "import pandas as pd\n",
        "\n",
        "# Read the CSV file\n",
        "data = pd.read_csv(\"Assignment1_denton_housing.csv\")\n",
        "\n",
        "# (a) Calculate the difference in the number of Occupied Housing Units from year to year\n",
        "occupied_diff = data[data['title_field'] == 'Occupied Housing Units'].sort_values(by='year')['value'].diff().dropna().astype(int).tolist()\n",
        "\n",
        "# Print the differences in ascending order\n",
        "print(\"Occupied Housing Units Difference (Ascending Order):\")\n",
        "print(occupied_diff)\n",
        "\n",
        "# (b) Calculate the percentage of housing units which are vacant and occupied for each year\n",
        "housing_summary = data.pivot(index='year', columns='title_field', values='value')\n",
        "housing_summary['Total Housing Units'] = housing_summary['Occupied Housing Units'] + housing_summary['Vacant Housing Units']\n",
        "housing_summary['Vacant Housing %'] = (housing_summary['Vacant Housing Units'] / housing_summary['Total Housing Units']) * 100\n",
        "housing_summary['Occupied Housing %'] = (housing_summary['Occupied Housing Units'] / housing_summary['Total Housing Units']) * 100\n",
        "\n",
        "# Print the results\n",
        "print(\"\\nYear  Vacant Housing Units  Occupied Housing Units\")\n",
        "print(housing_summary[['Vacant Housing %', 'Occupied Housing %']].round(2))\n",
        "\n",
        "# (c) Calculate the years and values for highest number of vacant and occupied housing units\n",
        "max_vacant = housing_summary['Vacant Housing Units'].idxmax(), housing_summary['Vacant Housing Units'].max()\n",
        "max_occupied = housing_summary\n"
      ]
    },
    {
      "cell_type": "markdown",
      "source": [
        "# Mandatory Question\n",
        "\n",
        "Provide your thoughts on the assignment. What did you find challenging, and what aspects did you enjoy? Your opinion on the provided time to complete the assignment. Share any suggestions for improvement. Your feedback will be valuable for enhancing the learning experience."
      ],
      "metadata": {
        "id": "q8BFCvWp32cf"
      }
    },
    {
      "cell_type": "code",
      "source": [
        "# Write your response below\n",
        "\"This assignment involved in working with data from a CSV file and doing some calculations on it.\n",
        "\"Some parts were really tricky, like figuring out how to calculate differences and percentages, but it felt good to solve these challenges.\n",
        "\"The time given to finish the assignment felt just right, giving enough time to understand and complete each task well.\n",
        "\"To make it even better, providing clearer instructions or examples could help students understand what to do more easily.\n",
        "\"Also, explaining some concepts in simpler terms.\""
      ],
      "metadata": {
        "id": "_e557s2w4BpK",
        "colab": {
          "base_uri": "https://localhost:8080/",
          "height": 141
        },
        "outputId": "25bbd64e-77f8-47c9-8d4b-145cf13fe4ac"
      },
      "execution_count": null,
      "outputs": [
        {
          "output_type": "error",
          "ename": "SyntaxError",
          "evalue": "unterminated string literal (detected at line 2) (<ipython-input-23-883c0458c66d>, line 2)",
          "traceback": [
            "\u001b[0;36m  File \u001b[0;32m\"<ipython-input-23-883c0458c66d>\"\u001b[0;36m, line \u001b[0;32m2\u001b[0m\n\u001b[0;31m    \"This assignment involved in working with data from a CSV file and doing some calculations on it.\u001b[0m\n\u001b[0m    ^\u001b[0m\n\u001b[0;31mSyntaxError\u001b[0m\u001b[0;31m:\u001b[0m unterminated string literal (detected at line 2)\n"
          ]
        }
      ]
    }
  ],
  "metadata": {
    "colab": {
      "provenance": [],
      "include_colab_link": true
    },
    "kernelspec": {
      "display_name": "Python 3 (ipykernel)",
      "language": "python",
      "name": "python3"
    },
    "language_info": {
      "codemirror_mode": {
        "name": "ipython",
        "version": 3
      },
      "file_extension": ".py",
      "mimetype": "text/x-python",
      "name": "python",
      "nbconvert_exporter": "python",
      "pygments_lexer": "ipython3",
      "version": "3.9.12"
    }
  },
  "nbformat": 4,
  "nbformat_minor": 0
}